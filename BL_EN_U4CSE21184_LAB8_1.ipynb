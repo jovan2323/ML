{
  "nbformat": 4,
  "nbformat_minor": 0,
  "metadata": {
    "colab": {
      "provenance": [],
      "include_colab_link": true
    },
    "kernelspec": {
      "name": "python3",
      "display_name": "Python 3"
    },
    "language_info": {
      "name": "python"
    }
  },
  "cells": [
    {
      "cell_type": "markdown",
      "metadata": {
        "id": "view-in-github",
        "colab_type": "text"
      },
      "source": [
        "<a href=\"https://colab.research.google.com/github/jovan2323/ML/blob/main/BL_EN_U4CSE21184_LAB8_1.ipynb\" target=\"_parent\"><img src=\"https://colab.research.google.com/assets/colab-badge.svg\" alt=\"Open In Colab\"/></a>"
      ]
    },
    {
      "cell_type": "code",
      "execution_count": null,
      "metadata": {
        "id": "hJfcMRlbKR1B",
        "colab": {
          "base_uri": "https://localhost:8080/"
        },
        "outputId": "c4949563-67cd-4a8f-804d-b5e083356013"
      },
      "outputs": [
        {
          "output_type": "stream",
          "name": "stdout",
          "text": [
            "Prior Probabilities for 'buys_computer' classes:\n",
            "yes    0.642857\n",
            "no     0.357143\n",
            "Name: buys_computer, dtype: float64\n"
          ]
        }
      ],
      "source": [
        "#A1\n",
        "import pandas as pd\n",
        "\n",
        "data = {\n",
        "    'age': ['<=30', '<=30', '31…40', '>40', '>40', '>40', '31…40', '<=30', '<=30', '>40',\n",
        "            '<=30', '31…40', '31…40', '>40'],\n",
        "    'income': ['high', 'high', 'high', 'medium', 'low', 'low', 'low', 'medium', 'low',\n",
        "               'medium', 'medium', 'medium', 'high', 'medium'],\n",
        "    'student': ['no', 'no', 'no', 'no', 'yes', 'yes', 'yes', 'no', 'yes', 'yes', 'yes',\n",
        "                'no', 'yes', 'no'],\n",
        "    'credit_rating': ['fair', 'excellent', 'fair', 'fair', 'fair', 'excellent', 'excellent',\n",
        "                      'fair', 'fair', 'fair', 'excellent', 'excellent', 'fair', 'excellent'],\n",
        "    'buys_computer': ['no', 'no', 'yes', 'yes', 'yes', 'no', 'yes', 'no', 'yes', 'yes',\n",
        "                      'yes', 'yes', 'yes', 'no']\n",
        "}\n",
        "\n",
        "df = pd.DataFrame(data)\n",
        "\n",
        "prior_prob = df['buys_computer'].value_counts(normalize=True)\n",
        "print(\"Prior Probabilities for 'buys_computer' classes:\")\n",
        "print(prior_prob)\n"
      ]
    },
    {
      "cell_type": "code",
      "source": [
        "#A2\n",
        "import pandas as pd\n",
        "\n",
        "data = {\n",
        "    'age': ['<=30', '<=30', '31…40', '>40', '>40', '>40', '31…40', '<=30', '<=30', '>40',\n",
        "            '<=30', '31…40', '31…40', '>40'],\n",
        "    'income': ['high', 'high', 'high', 'medium', 'low', 'low', 'low', 'medium', 'low',\n",
        "               'medium', 'medium', 'medium', 'high', 'medium'],\n",
        "    'student': ['no', 'no', 'no', 'no', 'yes', 'yes', 'yes', 'no', 'yes', 'yes', 'yes',\n",
        "                'no', 'yes', 'no'],\n",
        "    'credit_rating': ['fair', 'excellent', 'fair', 'fair', 'fair', 'excellent', 'excellent',\n",
        "                      'fair', 'fair', 'fair', 'excellent', 'excellent', 'fair', 'excellent'],\n",
        "    'buys_computer': ['no', 'no', 'yes', 'yes', 'yes', 'no', 'yes', 'no', 'yes', 'yes',\n",
        "                      'yes', 'yes', 'yes', 'no']\n",
        "}\n",
        "\n",
        "df = pd.DataFrame(data)\n",
        "\n",
        "class_conditional_densities = {}\n",
        "for feature in df.columns[:-1]:\n",
        "    class_conditional_densities[feature] = df.groupby(['buys_computer', feature]).size() / len(df)\n",
        "\n",
        "for feature, density in class_conditional_densities.items():\n",
        "    print(f\"Class-Conditional Density for '{feature}':\")\n",
        "    print(density)\n",
        "    print()\n",
        "\n",
        "for feature, density in class_conditional_densities.items():\n",
        "    if density.isnull().any():\n",
        "        print(f\"At least one class-conditional density for '{feature}' has zero values.\")\n"
      ],
      "metadata": {
        "colab": {
          "base_uri": "https://localhost:8080/"
        },
        "id": "fEO42nIFziDM",
        "outputId": "cbbf09b8-9f0d-4bf0-f894-fcd96c4d736b"
      },
      "execution_count": null,
      "outputs": [
        {
          "output_type": "stream",
          "name": "stdout",
          "text": [
            "Class-Conditional Density for 'age':\n",
            "buys_computer  age  \n",
            "no             <=30     0.214286\n",
            "               >40      0.142857\n",
            "yes            31…40    0.285714\n",
            "               <=30     0.142857\n",
            "               >40      0.214286\n",
            "dtype: float64\n",
            "\n",
            "Class-Conditional Density for 'income':\n",
            "buys_computer  income\n",
            "no             high      0.142857\n",
            "               low       0.071429\n",
            "               medium    0.142857\n",
            "yes            high      0.142857\n",
            "               low       0.214286\n",
            "               medium    0.285714\n",
            "dtype: float64\n",
            "\n",
            "Class-Conditional Density for 'student':\n",
            "buys_computer  student\n",
            "no             no         0.285714\n",
            "               yes        0.071429\n",
            "yes            no         0.214286\n",
            "               yes        0.428571\n",
            "dtype: float64\n",
            "\n",
            "Class-Conditional Density for 'credit_rating':\n",
            "buys_computer  credit_rating\n",
            "no             excellent        0.214286\n",
            "               fair             0.142857\n",
            "yes            excellent        0.214286\n",
            "               fair             0.428571\n",
            "dtype: float64\n",
            "\n"
          ]
        }
      ]
    },
    {
      "cell_type": "code",
      "source": [
        "#A3\n",
        "import pandas as pd\n",
        "from scipy.stats import chi2_contingency\n",
        "\n",
        "data = {\n",
        "    'age': ['<=30', '<=30', '31…40', '>40', '>40', '>40', '31…40', '<=30', '<=30', '>40',\n",
        "            '<=30', '31…40', '31…40', '>40'],\n",
        "    'income': ['high', 'high', 'high', 'medium', 'low', 'low', 'low', 'medium', 'low',\n",
        "               'medium', 'medium', 'medium', 'high', 'medium'],\n",
        "    'student': ['no', 'no', 'no', 'no', 'yes', 'yes', 'yes', 'no', 'yes', 'yes', 'yes',\n",
        "                'no', 'yes', 'no'],\n",
        "    'credit_rating': ['fair', 'excellent', 'fair', 'fair', 'fair', 'excellent', 'excellent',\n",
        "                      'fair', 'fair', 'fair', 'excellent', 'excellent', 'fair', 'excellent'],\n",
        "    'buys_computer': ['no', 'no', 'yes', 'yes', 'yes', 'no', 'yes', 'no', 'yes', 'yes',\n",
        "                      'yes', 'yes', 'yes', 'no']\n",
        "}\n",
        "\n",
        "df = pd.DataFrame(data)\n",
        "\n",
        "features = ['age', 'income', 'student', 'credit_rating']\n",
        "\n",
        "for i in range(len(features)):\n",
        "    for j in range(i + 1, len(features)):\n",
        "        contingency_table = pd.crosstab(df[features[i]], df[features[j]])\n",
        "        chi2, p, dof, expected = chi2_contingency(contingency_table)\n",
        "        print(f\"test between '{features[i]}' and '{features[j]}':\")\n",
        "        print(f\"statistic: {chi2}\")\n",
        "        print(f\"P-value: {p}\")\n",
        "        print(\"\")\n",
        "\n"
      ],
      "metadata": {
        "colab": {
          "base_uri": "https://localhost:8080/"
        },
        "id": "xWwYJ_E2z8wG",
        "outputId": "8421ec3e-d8c7-49d3-b001-8abb52978b38"
      },
      "execution_count": null,
      "outputs": [
        {
          "output_type": "stream",
          "name": "stdout",
          "text": [
            "test between 'age' and 'income':\n",
            "statistic: 3.3249999999999997\n",
            "P-value: 0.5049810026322079\n",
            "\n",
            "test between 'age' and 'student':\n",
            "statistic: 0.4\n",
            "P-value: 0.8187307530779818\n",
            "\n",
            "test between 'age' and 'credit_rating':\n",
            "statistic: 0.11666666666666664\n",
            "P-value: 0.9433354498734922\n",
            "\n",
            "test between 'income' and 'student':\n",
            "statistic: 5.666666666666666\n",
            "P-value: 0.05881647164242991\n",
            "\n",
            "test between 'income' and 'credit_rating':\n",
            "statistic: 0.7291666666666666\n",
            "P-value: 0.6944859597510076\n",
            "\n",
            "test between 'student' and 'credit_rating':\n",
            "statistic: 0.0\n",
            "P-value: 1.0\n",
            "\n"
          ]
        }
      ]
    },
    {
      "cell_type": "code",
      "source": [
        "import pandas as pd\n",
        "from sklearn.naive_bayes import GaussianNB\n",
        "from sklearn.preprocessing import LabelEncoder\n",
        "from sklearn.model_selection import train_test_split\n",
        "from sklearn.metrics import accuracy_score\n",
        "\n",
        "# Given data\n",
        "data = {\n",
        "    'age': ['<=30', '<=30', '31…40', '>40', '>40', '>40', '31…40', '<=30', '<=30', '>40', '<=30', '31…40', '31…40', '>40'],\n",
        "    'income': ['high', 'high', 'high', 'medium', 'low', 'low', 'low', 'medium', 'low', 'medium', 'medium', 'medium', 'high', 'medium'],\n",
        "    'student': ['no', 'no', 'no', 'no', 'yes', 'yes', 'yes', 'no', 'yes', 'yes', 'yes', 'no', 'yes', 'no'],\n",
        "    'credit_rating': ['fair', 'excellent', 'fair', 'fair', 'fair', 'excellent', 'excellent', 'fair', 'fair', 'fair', 'excellent', 'excellent', 'fair', 'excellent'],\n",
        "    'buys_computer': ['no', 'no', 'yes', 'yes', 'yes', 'no', 'yes', 'no', 'yes', 'yes', 'yes', 'yes', 'yes', 'no']\n",
        "}\n",
        "\n",
        "# Create a DataFrame\n",
        "df = pd.DataFrame(data)\n",
        "\n",
        "# Encoding string data into numerical data\n",
        "le = LabelEncoder()\n",
        "df_encoded = df.apply(le.fit_transform)\n",
        "\n",
        "# Separate features and target variable\n",
        "X = df_encoded.drop('buys_computer', axis=1)\n",
        "y = df_encoded['buys_computer']\n",
        "\n",
        "# Split the dataset into training and testing sets\n",
        "X_train, X_test, y_train, y_test = train_test_split(X, y, test_size=0.2, random_state=42)\n",
        "\n",
        "\n",
        "# A4: Build a Naïve-Bayes classifier\n",
        "model_a4 = GaussianNB()\n",
        "model_a4.fit(X_train, y_train)\n",
        "\n",
        "# Make predictions on the test set\n",
        "predictions = model_a4.predict(X_test)\n",
        "\n",
        "# Calculate accuracy of the predictions\n",
        "accuracy_a4 = accuracy_score(y_test, predictions)\n",
        "\n",
        "\n",
        "print(\"\\nA4: Naïve-Bayes Classifier Test Set Accuracy:\", accuracy_a4)"
      ],
      "metadata": {
        "colab": {
          "base_uri": "https://localhost:8080/"
        },
        "id": "uFmWrQtI6j39",
        "outputId": "0c029a18-8244-4aef-ede0-2de0f045512d"
      },
      "execution_count": null,
      "outputs": [
        {
          "output_type": "stream",
          "name": "stdout",
          "text": [
            "\n",
            "A4: Naïve-Bayes Classifier Test Set Accuracy: 0.6666666666666666\n"
          ]
        }
      ]
    },
    {
      "cell_type": "code",
      "source": [
        "#A5 1st dataset\n",
        "import pandas as pd\n",
        "\n",
        "# Load the dataset\n",
        "dataset = pd.read_excel('/content/DS to B.tech.xlsx')\n",
        "\n",
        "# Separate the features and labels\n",
        "X = dataset[['Id']]\n",
        "y = dataset['Label']\n",
        "\n",
        "# Split the data into training and testing sets\n",
        "X_train, X_test, y_train, y_test = train_test_split(X, y, test_size=0.2, random_state=42)\n",
        "\n",
        "# Create a Gaussian Naive Bayes classifier\n",
        "model = GaussianNB()\n",
        "\n",
        "# Train the classifier\n",
        "model.fit(X_train, y_train)\n",
        "\n",
        "# Make predictions on the test set\n",
        "y_pred = model.predict(X_test)\n",
        "\n",
        "# Evaluate the classifier\n",
        "accuracy = accuracy_score(y_test, y_pred)\n",
        "\n",
        "# Print the accuracy\n",
        "print(accuracy)\n"
      ],
      "metadata": {
        "colab": {
          "base_uri": "https://localhost:8080/"
        },
        "id": "Mm5OiCi30dPd",
        "outputId": "0ec4a968-2604-4e73-8bc7-5704bca8228d"
      },
      "execution_count": null,
      "outputs": [
        {
          "output_type": "stream",
          "name": "stdout",
          "text": [
            "0.37777777777777777\n"
          ]
        }
      ]
    }
  ]
}