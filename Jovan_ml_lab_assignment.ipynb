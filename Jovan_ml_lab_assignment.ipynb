{
  "nbformat": 4,
  "nbformat_minor": 0,
  "metadata": {
    "colab": {
      "provenance": [],
      "include_colab_link": true
    },
    "kernelspec": {
      "name": "python3",
      "display_name": "Python 3"
    },
    "language_info": {
      "name": "python"
    }
  },
  "cells": [
    {
      "cell_type": "markdown",
      "metadata": {
        "id": "view-in-github",
        "colab_type": "text"
      },
      "source": [
        "<a href=\"https://colab.research.google.com/github/jovan2323/ML/blob/main/Jovan_ml_lab_assignment.ipynb\" target=\"_parent\"><img src=\"https://colab.research.google.com/assets/colab-badge.svg\" alt=\"Open In Colab\"/></a>"
      ]
    },
    {
      "cell_type": "code",
      "execution_count": null,
      "metadata": {
        "colab": {
          "base_uri": "https://localhost:8080/"
        },
        "id": "cIMvJADZeBgG",
        "outputId": "5563ffcd-5c8e-4e4b-f525-26564899a15d"
      },
      "outputs": [
        {
          "output_type": "stream",
          "name": "stdout",
          "text": [
            "A1: Prior Probabilities: {1: 0.6363636363636364, 0: 0.36363636363636365}\n",
            "\n",
            "A2: Class Conditional Densities: {'age': {0: {0: 0.0, 1: 0.42857142857142855}, 1: {0: 0.5, 1: 0.2857142857142857}, 2: {0: 0.5, 1: 0.2857142857142857}}, 'income': {0: {0: 0.25, 1: 0.2857142857142857}, 1: {0: 0.25, 1: 0.42857142857142855}, 2: {0: 0.5, 1: 0.2857142857142857}}, 'student': {0: {0: 0.75, 1: 0.2857142857142857}, 1: {0: 0.25, 1: 0.7142857142857143}}, 'credit_rating': {0: {0: 0.75, 1: 0.2857142857142857}, 1: {0: 0.25, 1: 0.7142857142857143}}}\n",
            "\n",
            "A3: Feature Independence: {'age': {'age': 1.0, 'income': 0.5657894736842105, 'student': -0.12565617248750865, 'credit_rating': -0.12565617248750865}, 'income': {'age': 0.5657894736842105, 'income': 1.0, 'student': -0.12565617248750863, 'credit_rating': -0.12565617248750865}, 'student': {'age': -0.12565617248750865, 'income': -0.12565617248750863, 'student': 1.0, 'credit_rating': -0.10000000000000005}, 'credit_rating': {'age': -0.12565617248750865, 'income': -0.12565617248750865, 'student': -0.10000000000000005, 'credit_rating': 1.0}}\n",
            "\n",
            "A4: Naïve-Bayes Classifier Test Set Accuracy: 0.6666666666666666\n"
          ]
        }
      ],
      "source": [
        "import pandas as pd\n",
        "from sklearn.naive_bayes import GaussianNB\n",
        "from sklearn.preprocessing import LabelEncoder\n",
        "from sklearn.model_selection import train_test_split\n",
        "from sklearn.metrics import accuracy_score\n",
        "\n",
        "# Given data\n",
        "data = {\n",
        "    'age': ['<=30', '<=30', '31…40', '>40', '>40', '>40', '31…40', '<=30', '<=30', '>40', '<=30', '31…40', '31…40', '>40'],\n",
        "    'income': ['high', 'high', 'high', 'medium', 'low', 'low', 'low', 'medium', 'low', 'medium', 'medium', 'medium', 'high', 'medium'],\n",
        "    'student': ['no', 'no', 'no', 'no', 'yes', 'yes', 'yes', 'no', 'yes', 'yes', 'yes', 'no', 'yes', 'no'],\n",
        "    'credit_rating': ['fair', 'excellent', 'fair', 'fair', 'fair', 'excellent', 'excellent', 'fair', 'fair', 'fair', 'excellent', 'excellent', 'fair', 'excellent'],\n",
        "    'buys_computer': ['no', 'no', 'yes', 'yes', 'yes', 'no', 'yes', 'no', 'yes', 'yes', 'yes', 'yes', 'yes', 'no']\n",
        "}\n",
        "\n",
        "# Create a DataFrame\n",
        "df = pd.DataFrame(data)\n",
        "\n",
        "# Encoding string data into numerical data\n",
        "le = LabelEncoder()\n",
        "df_encoded = df.apply(le.fit_transform)\n",
        "\n",
        "# Separate features and target variable\n",
        "X = df_encoded.drop('buys_computer', axis=1)\n",
        "y = df_encoded['buys_computer']\n",
        "\n",
        "# Split the dataset into training and testing sets\n",
        "X_train, X_test, y_train, y_test = train_test_split(X, y, test_size=0.2, random_state=42)\n",
        "\n",
        "# A1: Calculate the prior probabilities for each class\n",
        "priors_a1 = y_train.value_counts(normalize=True).to_dict()\n",
        "\n",
        "# A2: Calculate the class conditional densities for various features & classes\n",
        "conditional_densities_a2 = {}\n",
        "for column in X.columns:\n",
        "    conditional_densities_a2[column] = X_train.groupby(y_train)[column].value_counts(normalize=True).unstack().fillna(0).to_dict()\n",
        "\n",
        "# A3: Test for independence between features\n",
        "feature_independence_a3 = X_train.corr().to_dict()\n",
        "\n",
        "# A4: Build a Naïve-Bayes classifier\n",
        "model_a4 = GaussianNB()\n",
        "model_a4.fit(X_train, y_train)\n",
        "\n",
        "# Make predictions on the test set\n",
        "predictions = model_a4.predict(X_test)\n",
        "\n",
        "# Calculate accuracy of the predictions\n",
        "accuracy_a4 = accuracy_score(y_test, predictions)\n",
        "\n",
        "# Output the results\n",
        "print(\"A1: Prior Probabilities:\", priors_a1)\n",
        "print(\"\\nA2: Class Conditional Densities:\", conditional_densities_a2)\n",
        "print(\"\\nA3: Feature Independence:\", feature_independence_a3)\n",
        "print(\"\\nA4: Naïve-Bayes Classifier Test Set Accuracy:\", accuracy_a4)\n",
        "\n"
      ]
    },
    {
      "cell_type": "code",
      "source": [
        "import numpy as np\n",
        "import pandas as pd\n",
        "from sklearn.model_selection import train_test_split\n",
        "from sklearn.naive_bayes import GaussianNB\n",
        "from sklearn.metrics import accuracy_score\n",
        "\n",
        "# Load your data\n",
        "samples = np.load('/content/activation_maps_lines_image52_pixel (1).npy')\n",
        "features = np.load('/content/activation_maps_lines_image52_labelpixel.npy')\n",
        "\n",
        "# Reshape your data (pixels x features)\n",
        "samples_num = samples.shape[0]   # Total number of pixels\n",
        "features_num = samples.shape[1]  # Number of features for each pixel\n",
        "X_reshaped = samples.reshape(samples_num, features_num)\n",
        "y_reshaped = features.reshape(samples_num)\n",
        "\n",
        "# Split the data into training and testing sets\n",
        "X_train, X_test, y_train, y_test = train_test_split(X_reshaped, y_reshaped, test_size=0.2, random_state=42)\n",
        "\n",
        "# Build and train a Naive Bayes classifier\n",
        "nb_classifier = GaussianNB()\n",
        "nb_classifier.fit(X_train, y_train)\n",
        "\n",
        "# Test the accuracy of the Naive Bayes classifier\n",
        "accuracy = nb_classifier.score(X_test, y_test)\n",
        "print(f\"Naive Bayes Classifier Accuracy: {accuracy}\")\n",
        "\n",
        "# If needed, you can also predict on the test set and evaluate other metrics\n",
        "predictions = nb_classifier.predict(X_test)"
      ],
      "metadata": {
        "colab": {
          "base_uri": "https://localhost:8080/"
        },
        "id": "XS2TlxD_fYgK",
        "outputId": "dc18ddda-0179-4a81-9c4a-2d7fb0cd08cd"
      },
      "execution_count": null,
      "outputs": [
        {
          "output_type": "stream",
          "name": "stdout",
          "text": [
            "Naive Bayes Classifier Accuracy: 0.13976197741837046\n"
          ]
        }
      ]
    }
  ]
}